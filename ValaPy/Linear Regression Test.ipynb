{
 "cells": [
  {
   "cell_type": "markdown",
   "id": "6dde0474",
   "metadata": {},
   "source": [
    "# Linear Regression Test"
   ]
  },
  {
   "cell_type": "markdown",
   "id": "63349083",
   "metadata": {},
   "source": [
    "## Part 1: Testing against sklearn library"
   ]
  },
  {
   "cell_type": "code",
   "execution_count": 1,
   "id": "0a2eb1c5",
   "metadata": {},
   "outputs": [],
   "source": [
    "from sklearn.datasets import fetch_california_housing"
   ]
  },
  {
   "cell_type": "code",
   "execution_count": 2,
   "id": "916a1f80",
   "metadata": {
    "scrolled": false
   },
   "outputs": [
    {
     "name": "stdout",
     "output_type": "stream",
     "text": [
      ".. _california_housing_dataset:\n",
      "\n",
      "California Housing dataset\n",
      "--------------------------\n",
      "\n",
      "**Data Set Characteristics:**\n",
      "\n",
      "    :Number of Instances: 20640\n",
      "\n",
      "    :Number of Attributes: 8 numeric, predictive attributes and the target\n",
      "\n",
      "    :Attribute Information:\n",
      "        - MedInc        median income in block group\n",
      "        - HouseAge      median house age in block group\n",
      "        - AveRooms      average number of rooms per household\n",
      "        - AveBedrms     average number of bedrooms per household\n",
      "        - Population    block group population\n",
      "        - AveOccup      average number of household members\n",
      "        - Latitude      block group latitude\n",
      "        - Longitude     block group longitude\n",
      "\n",
      "    :Missing Attribute Values: None\n",
      "\n",
      "This dataset was obtained from the StatLib repository.\n",
      "https://www.dcc.fc.up.pt/~ltorgo/Regression/cal_housing.html\n",
      "\n",
      "The target variable is the median house value for California districts,\n",
      "expressed in hundreds of thousands of dollars ($100,000).\n",
      "\n",
      "This dataset was derived from the 1990 U.S. census, using one row per census\n",
      "block group. A block group is the smallest geographical unit for which the U.S.\n",
      "Census Bureau publishes sample data (a block group typically has a population\n",
      "of 600 to 3,000 people).\n",
      "\n",
      "An household is a group of people residing within a home. Since the average\n",
      "number of rooms and bedrooms in this dataset are provided per household, these\n",
      "columns may take surpinsingly large values for block groups with few households\n",
      "and many empty houses, such as vacation resorts.\n",
      "\n",
      "It can be downloaded/loaded using the\n",
      ":func:`sklearn.datasets.fetch_california_housing` function.\n",
      "\n",
      ".. topic:: References\n",
      "\n",
      "    - Pace, R. Kelley and Ronald Barry, Sparse Spatial Autoregressions,\n",
      "      Statistics and Probability Letters, 33 (1997) 291-297\n",
      "\n"
     ]
    }
   ],
   "source": [
    "print(fetch_california_housing()['DESCR'])"
   ]
  },
  {
   "cell_type": "code",
   "execution_count": 3,
   "id": "db1d218f",
   "metadata": {},
   "outputs": [],
   "source": [
    "X = fetch_california_housing()['data']\n",
    "y = fetch_california_housing()['target']"
   ]
  },
  {
   "cell_type": "code",
   "execution_count": 4,
   "id": "3a905dd6",
   "metadata": {},
   "outputs": [],
   "source": [
    "from sklearn.model_selection import train_test_split"
   ]
  },
  {
   "cell_type": "code",
   "execution_count": 5,
   "id": "02b79d9c",
   "metadata": {},
   "outputs": [],
   "source": [
    "X_train, X_test, y_train, y_test = train_test_split(X, y, test_size=0.33)"
   ]
  },
  {
   "cell_type": "code",
   "execution_count": 6,
   "id": "b57223ec",
   "metadata": {},
   "outputs": [],
   "source": [
    "from sklearn.linear_model import LinearRegression"
   ]
  },
  {
   "cell_type": "code",
   "execution_count": 7,
   "id": "9cf5487b",
   "metadata": {},
   "outputs": [
    {
     "data": {
      "text/plain": [
       "LinearRegression()"
      ]
     },
     "execution_count": 7,
     "metadata": {},
     "output_type": "execute_result"
    }
   ],
   "source": [
    "linreg = LinearRegression()\n",
    "\n",
    "linreg.fit(X_train, y_train)"
   ]
  },
  {
   "cell_type": "code",
   "execution_count": 8,
   "id": "5371610a",
   "metadata": {},
   "outputs": [
    {
     "name": "stdout",
     "output_type": "stream",
     "text": [
      "Beta: [ 4.36558720e-01  9.31540311e-03 -1.04367081e-01  6.13168787e-01\n",
      " -6.68355342e-07 -3.23110109e-03 -4.24158639e-01 -4.38966638e-01]\n",
      "Intercept: -37.35570783483359\n"
     ]
    }
   ],
   "source": [
    "print(\"Beta:\", linreg.coef_)\n",
    "print(\"Intercept:\", linreg.intercept_)"
   ]
  },
  {
   "cell_type": "code",
   "execution_count": 9,
   "id": "5ecc17d7",
   "metadata": {},
   "outputs": [],
   "source": [
    "y_test_pred = linreg.predict(X_test)"
   ]
  },
  {
   "cell_type": "code",
   "execution_count": 10,
   "id": "1b63b27b",
   "metadata": {},
   "outputs": [
    {
     "name": "stdout",
     "output_type": "stream",
     "text": [
      "RMSE: 0.7300197003825873\n",
      "R²: 0.5999041801167233\n"
     ]
    }
   ],
   "source": [
    "from sklearn.metrics import mean_squared_error, r2_score\n",
    "from numpy import sqrt\n",
    "mse = mean_squared_error(y_test, y_test_pred)\n",
    "rmse = sqrt(mse)\n",
    "r2 = r2_score(y_test, y_test_pred)\n",
    "print(\"RMSE:\", rmse)\n",
    "print(\"R²:\", r2)"
   ]
  },
  {
   "cell_type": "markdown",
   "id": "8f346c8a",
   "metadata": {},
   "source": [
    "## Part 2: Testing against native library"
   ]
  },
  {
   "cell_type": "code",
   "execution_count": 11,
   "id": "5123b8d0",
   "metadata": {},
   "outputs": [],
   "source": [
    "from data_science.machine_learning import train_test_split\n",
    "X_train, X_test, y_train, y_test = train_test_split(X, y, 0.33) "
   ]
  },
  {
   "cell_type": "code",
   "execution_count": 12,
   "id": "8891caed",
   "metadata": {},
   "outputs": [],
   "source": [
    "from data_science import Linear_Regression\n",
    "lr = Linear_Regression()"
   ]
  },
  {
   "cell_type": "code",
   "execution_count": 16,
   "id": "6c579330",
   "metadata": {},
   "outputs": [
    {
     "name": "stderr",
     "output_type": "stream",
     "text": [
      "Ridge Loss Fit: 100%|████████████████████████████████████████████████████████████████| 500/500 [02:37<00:00,  3.17it/s]\n"
     ]
    }
   ],
   "source": [
    "lr.fit(X_train, y_train, learning_rate=0.0000001, num_steps=500)"
   ]
  },
  {
   "cell_type": "code",
   "execution_count": 17,
   "id": "43f0bf01",
   "metadata": {},
   "outputs": [
    {
     "name": "stdout",
     "output_type": "stream",
     "text": [
      "Beta: [0.012795467440709538, -0.04688082446820239, 0.21702422051702747, -0.00021427691149083033, -0.006640697776360565, -0.11668155352214246, -0.035741057524696834]\n",
      "Intercept: 0.4360839943078677\n"
     ]
    }
   ],
   "source": [
    "print(\"Beta:\", lr.beta[1:])\n",
    "print(\"Intercept:\", lr.beta[0])"
   ]
  },
  {
   "cell_type": "code",
   "execution_count": 18,
   "id": "89ee06dc",
   "metadata": {},
   "outputs": [],
   "source": [
    "y_test_pred = lr.predict(X_test)"
   ]
  },
  {
   "cell_type": "code",
   "execution_count": null,
   "id": "06789cf2",
   "metadata": {},
   "outputs": [],
   "source": []
  },
  {
   "cell_type": "code",
   "execution_count": 19,
   "id": "712633a8",
   "metadata": {},
   "outputs": [
    {
     "name": "stdout",
     "output_type": "stream",
     "text": [
      "R²: 0.4426256252733832\n"
     ]
    }
   ],
   "source": [
    "#mse2 = lr.mse(y_test, y_test_pred)\n",
    "#rmse2 = sqrt(mse2)\n",
    "r2_2 = lr.r2()\n",
    "#print(\"RMSE:\", rmse2)\n",
    "print(\"R²:\", r2_2)"
   ]
  },
  {
   "cell_type": "code",
   "execution_count": null,
   "id": "17f122c2",
   "metadata": {},
   "outputs": [],
   "source": []
  }
 ],
 "metadata": {
  "kernelspec": {
   "display_name": "Python 3 (ipykernel)",
   "language": "python",
   "name": "python3"
  },
  "language_info": {
   "codemirror_mode": {
    "name": "ipython",
    "version": 3
   },
   "file_extension": ".py",
   "mimetype": "text/x-python",
   "name": "python",
   "nbconvert_exporter": "python",
   "pygments_lexer": "ipython3",
   "version": "3.9.12"
  }
 },
 "nbformat": 4,
 "nbformat_minor": 5
}
